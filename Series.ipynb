{
  "cells": [
    {
      "cell_type": "markdown",
      "metadata": {
        "id": "view-in-github",
        "colab_type": "text"
      },
      "source": [
        "<a href=\"https://colab.research.google.com/github/Pratiksha1699/AI-Mafia-Machine-Learning/blob/main/Series.ipynb\" target=\"_parent\"><img src=\"https://colab.research.google.com/assets/colab-badge.svg\" alt=\"Open In Colab\"/></a>"
      ]
    },
    {
      "cell_type": "markdown",
      "metadata": {
        "id": "rwiugU3Q4Rnf"
      },
      "source": [
        "# Series"
      ]
    },
    {
      "cell_type": "markdown",
      "metadata": {
        "id": "p8-NrBqD4Rnh"
      },
      "source": [
        "The first main data type we will learn about for pandas is the Series data type. Let's import Pandas and explore the Series object.\n",
        "\n",
        "A Series is very similar to a NumPy array (in fact it is built on top of the NumPy array object). What differentiates the NumPy array from a Series, is that a Series can have axis labels, meaning it can be indexed by a label, instead of just a number location. It also doesn't need to hold numeric data, it can hold any arbitrary Python Object.\n",
        "\n",
        "Let's explore this concept through some examples:"
      ]
    },
    {
      "cell_type": "code",
      "execution_count": 1,
      "metadata": {
        "id": "OHMrEFHt4Rnj"
      },
      "outputs": [],
      "source": [
        "import numpy as np\n",
        "import pandas as pd"
      ]
    },
    {
      "cell_type": "markdown",
      "metadata": {
        "id": "KAH2IPns4Rnk"
      },
      "source": [
        "### Creating a Series\n",
        "\n",
        "\n",
        "You can convert a list,numpy array, or dictionary to a Series:"
      ]
    },
    {
      "cell_type": "code",
      "execution_count": 2,
      "metadata": {
        "id": "LW6t_nDT4Rnk",
        "outputId": "82cb81ad-3c31-46e2-9e9b-af855b21d629",
        "colab": {
          "base_uri": "https://localhost:8080/"
        }
      },
      "outputs": [
        {
          "output_type": "execute_result",
          "data": {
            "text/plain": [
              "30"
            ]
          },
          "metadata": {},
          "execution_count": 2
        }
      ],
      "source": [
        "# labels array\n",
        "labels = ['a','b','c']\n",
        "\n",
        "# list array\n",
        "my_list = [10,20,30]\n",
        "\n",
        "arr = np.array([10,20,30])\n",
        "\n",
        "# dictionary\n",
        "d = {'a':10,'b':20,'c':30}\n",
        "a = pd.Series(d)\n",
        "a['a']\n",
        "a['c']"
      ]
    },
    {
      "cell_type": "markdown",
      "metadata": {
        "id": "NCnV3Kna4Rnl"
      },
      "source": [
        "** Using Lists**"
      ]
    },
    {
      "cell_type": "code",
      "execution_count": 3,
      "metadata": {
        "id": "-KcbenP44Rnm",
        "outputId": "04dba871-cf8d-488f-c220-b3e898c27479",
        "colab": {
          "base_uri": "https://localhost:8080/"
        }
      },
      "outputs": [
        {
          "output_type": "execute_result",
          "data": {
            "text/plain": [
              "0    10\n",
              "1    20\n",
              "2    30\n",
              "dtype: int64"
            ]
          },
          "metadata": {},
          "execution_count": 3
        }
      ],
      "source": [
        "pd.Series(data=my_list)"
      ]
    },
    {
      "cell_type": "code",
      "execution_count": 4,
      "metadata": {
        "id": "XlD0pJW34Rnm",
        "outputId": "5214859c-c450-4a16-d6f8-f0672340f6f0",
        "colab": {
          "base_uri": "https://localhost:8080/"
        }
      },
      "outputs": [
        {
          "output_type": "execute_result",
          "data": {
            "text/plain": [
              "a    10\n",
              "b    20\n",
              "c    30\n",
              "dtype: int64"
            ]
          },
          "metadata": {},
          "execution_count": 4
        }
      ],
      "source": [
        "pd.Series(index=labels,data=my_list)\n",
        "\n",
        "#Keyword Arguments"
      ]
    },
    {
      "cell_type": "code",
      "execution_count": 5,
      "metadata": {
        "id": "ywzjxhyC4Rnn",
        "outputId": "83ba6d2f-38f3-489c-ce80-6a08404d0250",
        "colab": {
          "base_uri": "https://localhost:8080/"
        }
      },
      "outputs": [
        {
          "output_type": "execute_result",
          "data": {
            "text/plain": [
              "10    a\n",
              "20    b\n",
              "30    c\n",
              "dtype: object"
            ]
          },
          "metadata": {},
          "execution_count": 5
        }
      ],
      "source": [
        "pd.Series(labels,my_list)"
      ]
    },
    {
      "cell_type": "markdown",
      "metadata": {
        "id": "Ftfulgxd4Rno"
      },
      "source": [
        "** NumPy Arrays **"
      ]
    },
    {
      "cell_type": "code",
      "execution_count": 6,
      "metadata": {
        "id": "FQEWBJ0G4Rno",
        "outputId": "90a1b560-5b7b-4156-e92e-a4a277ae2bf4",
        "colab": {
          "base_uri": "https://localhost:8080/"
        }
      },
      "outputs": [
        {
          "output_type": "execute_result",
          "data": {
            "text/plain": [
              "0    10\n",
              "1    20\n",
              "2    30\n",
              "dtype: int64"
            ]
          },
          "metadata": {},
          "execution_count": 6
        }
      ],
      "source": [
        "pd.Series(arr)"
      ]
    },
    {
      "cell_type": "code",
      "execution_count": 7,
      "metadata": {
        "id": "IKcrCdAK4Rnq",
        "outputId": "44fd409f-86ef-414a-82de-326150d4960c",
        "colab": {
          "base_uri": "https://localhost:8080/"
        }
      },
      "outputs": [
        {
          "output_type": "execute_result",
          "data": {
            "text/plain": [
              "a    10\n",
              "b    20\n",
              "c    30\n",
              "dtype: int64"
            ]
          },
          "metadata": {},
          "execution_count": 7
        }
      ],
      "source": [
        "pd.Series(arr,labels)"
      ]
    },
    {
      "cell_type": "markdown",
      "metadata": {
        "id": "JqZCbgKM4Rnq"
      },
      "source": [
        "** Dictionary**"
      ]
    },
    {
      "cell_type": "code",
      "execution_count": 8,
      "metadata": {
        "id": "DtXR-RtQ4Rnr",
        "outputId": "eeefc9e5-5495-488b-ebb4-5f8b7aadd63d",
        "colab": {
          "base_uri": "https://localhost:8080/"
        }
      },
      "outputs": [
        {
          "output_type": "execute_result",
          "data": {
            "text/plain": [
              "a    10\n",
              "b    20\n",
              "c    30\n",
              "dtype: int64"
            ]
          },
          "metadata": {},
          "execution_count": 8
        }
      ],
      "source": [
        "pd.Series(d)"
      ]
    },
    {
      "cell_type": "markdown",
      "metadata": {
        "id": "8oWop_7Q4Rnr"
      },
      "source": [
        "### Data in a Series\n",
        "\n",
        "A pandas Series can hold a variety of object types:"
      ]
    },
    {
      "cell_type": "code",
      "execution_count": 9,
      "metadata": {
        "id": "u33VgHYn4Rns",
        "outputId": "6971e388-34fb-4b18-ae41-f703c93acc28",
        "colab": {
          "base_uri": "https://localhost:8080/"
        }
      },
      "outputs": [
        {
          "output_type": "execute_result",
          "data": {
            "text/plain": [
              "0    a\n",
              "1    b\n",
              "2    c\n",
              "dtype: object"
            ]
          },
          "metadata": {},
          "execution_count": 9
        }
      ],
      "source": [
        "pd.Series(data=labels)"
      ]
    },
    {
      "cell_type": "code",
      "execution_count": 10,
      "metadata": {
        "id": "VXNJHzWM4Rns",
        "outputId": "18b4cedc-2889-436c-a9fb-8b25220b19dc",
        "colab": {
          "base_uri": "https://localhost:8080/"
        }
      },
      "outputs": [
        {
          "output_type": "execute_result",
          "data": {
            "text/plain": [
              "0      <built-in function sum>\n",
              "1    <built-in function print>\n",
              "2      <built-in function len>\n",
              "dtype: object"
            ]
          },
          "metadata": {},
          "execution_count": 10
        }
      ],
      "source": [
        "# Even functions (although unlikely that you will use this)\n",
        "pd.Series([sum,print,len])"
      ]
    },
    {
      "cell_type": "markdown",
      "metadata": {
        "id": "zxqPZVaq4Rns"
      },
      "source": [
        "## Using an Index\n",
        "\n",
        "The key to using a Series is understanding its index. Pandas makes use of these index names or numbers by allowing for fast look ups of information (works like a hash table or dictionary).\n",
        "\n",
        "Let's see some examples of how to grab information from a Series. Let us create two sereis, ser1 and ser2:"
      ]
    },
    {
      "cell_type": "code",
      "execution_count": 11,
      "metadata": {
        "id": "ZL9ZBQKh4Rnt"
      },
      "outputs": [],
      "source": [
        "ser1 = pd.Series([1,2,3,4],index = ['USA', 'Germany','USSR', 'Japan'])"
      ]
    },
    {
      "cell_type": "code",
      "execution_count": 12,
      "metadata": {
        "id": "_a4gOHD74Rnt",
        "outputId": "b2023614-adc5-415c-a8b7-0bd20c440b11",
        "colab": {
          "base_uri": "https://localhost:8080/"
        }
      },
      "outputs": [
        {
          "output_type": "execute_result",
          "data": {
            "text/plain": [
              "USA        1\n",
              "Germany    2\n",
              "USSR       3\n",
              "Japan      4\n",
              "dtype: int64"
            ]
          },
          "metadata": {},
          "execution_count": 12
        }
      ],
      "source": [
        "ser1"
      ]
    },
    {
      "cell_type": "code",
      "execution_count": 13,
      "metadata": {
        "id": "v3sXyM9x4Rnu"
      },
      "outputs": [],
      "source": [
        "ser2 = pd.Series([1,2,5,4],index = ['USA', 'Germany','Italy', 'Japan'])"
      ]
    },
    {
      "cell_type": "code",
      "execution_count": 14,
      "metadata": {
        "id": "ZUrpRcBq4Rnu",
        "outputId": "5f47802f-7939-4776-b151-534c66532fdc",
        "colab": {
          "base_uri": "https://localhost:8080/"
        }
      },
      "outputs": [
        {
          "output_type": "execute_result",
          "data": {
            "text/plain": [
              "USA        1\n",
              "Germany    2\n",
              "Italy      5\n",
              "Japan      4\n",
              "dtype: int64"
            ]
          },
          "metadata": {},
          "execution_count": 14
        }
      ],
      "source": [
        "ser2"
      ]
    },
    {
      "cell_type": "code",
      "execution_count": 15,
      "metadata": {
        "id": "6ouEKB_Y4Rnu",
        "outputId": "864f2e87-d206-4f92-d249-fb036fbdaa65",
        "colab": {
          "base_uri": "https://localhost:8080/"
        }
      },
      "outputs": [
        {
          "output_type": "execute_result",
          "data": {
            "text/plain": [
              "1"
            ]
          },
          "metadata": {},
          "execution_count": 15
        }
      ],
      "source": [
        "ser1['USA']"
      ]
    },
    {
      "cell_type": "markdown",
      "metadata": {
        "id": "-Q58DTvx4Rnu"
      },
      "source": [
        "Operations are then also done based off of index:"
      ]
    },
    {
      "cell_type": "code",
      "execution_count": 16,
      "metadata": {
        "id": "eUqKQxyx4Rnv",
        "outputId": "a8732f85-f917-4525-edaf-bb9086a83cdc",
        "colab": {
          "base_uri": "https://localhost:8080/"
        }
      },
      "outputs": [
        {
          "output_type": "execute_result",
          "data": {
            "text/plain": [
              "Germany    4.0\n",
              "Italy      NaN\n",
              "Japan      8.0\n",
              "USA        2.0\n",
              "USSR       NaN\n",
              "dtype: float64"
            ]
          },
          "metadata": {},
          "execution_count": 16
        }
      ],
      "source": [
        "ser1 + ser2"
      ]
    },
    {
      "cell_type": "markdown",
      "metadata": {
        "id": "6hmqXKjj4Rnv"
      },
      "source": [
        "Let's stop here for now and move on to DataFrames, which will expand on the concept of Series!\n",
        "# Great Job!"
      ]
    }
  ],
  "metadata": {
    "kernelspec": {
      "display_name": "Python 3",
      "language": "python",
      "name": "python3"
    },
    "language_info": {
      "codemirror_mode": {
        "name": "ipython",
        "version": 3
      },
      "file_extension": ".py",
      "mimetype": "text/x-python",
      "name": "python",
      "nbconvert_exporter": "python",
      "pygments_lexer": "ipython3",
      "version": "3.7.3"
    },
    "colab": {
      "provenance": [],
      "include_colab_link": true
    }
  },
  "nbformat": 4,
  "nbformat_minor": 0
}