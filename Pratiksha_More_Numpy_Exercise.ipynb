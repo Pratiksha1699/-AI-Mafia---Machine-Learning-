{
  "cells": [
    {
      "cell_type": "markdown",
      "metadata": {
        "id": "view-in-github",
        "colab_type": "text"
      },
      "source": [
        "<a href=\"https://colab.research.google.com/github/Pratiksha1699/AI-Mafia-Machine-Learning/blob/main/Pratiksha_More_Numpy_Exercise.ipynb\" target=\"_parent\"><img src=\"https://colab.research.google.com/assets/colab-badge.svg\" alt=\"Open In Colab\"/></a>"
      ]
    },
    {
      "cell_type": "markdown",
      "metadata": {
        "id": "h7c3_-wB7mo2"
      },
      "source": [
        "# Numpy Exercise"
      ]
    },
    {
      "cell_type": "markdown",
      "metadata": {
        "id": "wrqWtI3I7mpD"
      },
      "source": [
        "#### 1. Import the numpy package under the name as np  "
      ]
    },
    {
      "cell_type": "code",
      "execution_count": 1,
      "metadata": {
        "collapsed": true,
        "id": "DMCwQSob7mpG"
      },
      "outputs": [],
      "source": [
        "import numpy as np"
      ]
    },
    {
      "cell_type": "markdown",
      "metadata": {
        "id": "gzrfb1yM7mpI"
      },
      "source": [
        "#### 2. Print the numpy version and the configuration"
      ]
    },
    {
      "cell_type": "code",
      "execution_count": 4,
      "metadata": {
        "id": "tiDlCixA7mpL",
        "colab": {
          "base_uri": "https://localhost:8080/"
        },
        "outputId": "08bb5b42-753a-4094-860a-fbcaa84945a3"
      },
      "outputs": [
        {
          "output_type": "stream",
          "name": "stdout",
          "text": [
            "1.25.2\n",
            "openblas64__info:\n",
            "    libraries = ['openblas64_', 'openblas64_']\n",
            "    library_dirs = ['/usr/local/lib']\n",
            "    language = c\n",
            "    define_macros = [('HAVE_CBLAS', None), ('BLAS_SYMBOL_SUFFIX', '64_'), ('HAVE_BLAS_ILP64', None)]\n",
            "    runtime_library_dirs = ['/usr/local/lib']\n",
            "blas_ilp64_opt_info:\n",
            "    libraries = ['openblas64_', 'openblas64_']\n",
            "    library_dirs = ['/usr/local/lib']\n",
            "    language = c\n",
            "    define_macros = [('HAVE_CBLAS', None), ('BLAS_SYMBOL_SUFFIX', '64_'), ('HAVE_BLAS_ILP64', None)]\n",
            "    runtime_library_dirs = ['/usr/local/lib']\n",
            "openblas64__lapack_info:\n",
            "    libraries = ['openblas64_', 'openblas64_']\n",
            "    library_dirs = ['/usr/local/lib']\n",
            "    language = c\n",
            "    define_macros = [('HAVE_CBLAS', None), ('BLAS_SYMBOL_SUFFIX', '64_'), ('HAVE_BLAS_ILP64', None), ('HAVE_LAPACKE', None)]\n",
            "    runtime_library_dirs = ['/usr/local/lib']\n",
            "lapack_ilp64_opt_info:\n",
            "    libraries = ['openblas64_', 'openblas64_']\n",
            "    library_dirs = ['/usr/local/lib']\n",
            "    language = c\n",
            "    define_macros = [('HAVE_CBLAS', None), ('BLAS_SYMBOL_SUFFIX', '64_'), ('HAVE_BLAS_ILP64', None), ('HAVE_LAPACKE', None)]\n",
            "    runtime_library_dirs = ['/usr/local/lib']\n",
            "Supported SIMD extensions in this NumPy install:\n",
            "    baseline = SSE,SSE2,SSE3\n",
            "    found = SSSE3,SSE41,POPCNT,SSE42,AVX,F16C,FMA3,AVX2\n",
            "    not found = AVX512F,AVX512CD,AVX512_KNL,AVX512_KNM,AVX512_SKX,AVX512_CLX,AVX512_CNL,AVX512_ICL\n",
            "None\n"
          ]
        }
      ],
      "source": [
        "print(np.__version__)\n",
        "print(np.show_config())"
      ]
    },
    {
      "cell_type": "markdown",
      "metadata": {
        "id": "QgD4SdxX7mpM"
      },
      "source": [
        "#### 3. Create a null vector of size 10"
      ]
    },
    {
      "cell_type": "code",
      "execution_count": 51,
      "metadata": {
        "id": "U3_UH7Ws7mpO",
        "colab": {
          "base_uri": "https://localhost:8080/"
        },
        "outputId": "afa511c4-6e6a-4a95-868f-2f8676437fee"
      },
      "outputs": [
        {
          "output_type": "stream",
          "name": "stdout",
          "text": [
            "[0. 0. 0. 0. 0. 0. 0. 0. 0. 0.]\n"
          ]
        }
      ],
      "source": [
        "a = np.zeros(10)\n",
        "print(a)"
      ]
    },
    {
      "cell_type": "markdown",
      "metadata": {
        "id": "LH8OFHaJ7mpQ"
      },
      "source": [
        "#### 4.  How to find the memory size of any array"
      ]
    },
    {
      "cell_type": "code",
      "source": [
        "a.size"
      ],
      "metadata": {
        "colab": {
          "base_uri": "https://localhost:8080/"
        },
        "id": "AE72is5d-jz8",
        "outputId": "d3aedcc0-77f3-46f3-9f40-30e7d2b83220"
      },
      "execution_count": 52,
      "outputs": [
        {
          "output_type": "execute_result",
          "data": {
            "text/plain": [
              "10"
            ]
          },
          "metadata": {},
          "execution_count": 52
        }
      ]
    },
    {
      "cell_type": "code",
      "execution_count": null,
      "metadata": {
        "id": "Z2_Gmwjl7mpT"
      },
      "outputs": [],
      "source": []
    },
    {
      "cell_type": "markdown",
      "metadata": {
        "id": "NYDnanE_7mpU"
      },
      "source": [
        "#### 5.  How to get the documentation of the numpy add function from the command line?"
      ]
    },
    {
      "cell_type": "code",
      "execution_count": 11,
      "metadata": {
        "collapsed": true,
        "id": "KFMfHypX7mpW",
        "colab": {
          "base_uri": "https://localhost:8080/"
        },
        "outputId": "4f5687cb-4805-4107-9489-cd251946521b"
      },
      "outputs": [
        {
          "output_type": "stream",
          "name": "stdout",
          "text": [
            "add(x1, x2, /, out=None, *, where=True, casting='same_kind', order='K', dtype=None, subok=True[, signature, extobj])\n",
            "\n",
            "Add arguments element-wise.\n",
            "\n",
            "Parameters\n",
            "----------\n",
            "x1, x2 : array_like\n",
            "    The arrays to be added.\n",
            "    If ``x1.shape != x2.shape``, they must be broadcastable to a common\n",
            "    shape (which becomes the shape of the output).\n",
            "out : ndarray, None, or tuple of ndarray and None, optional\n",
            "    A location into which the result is stored. If provided, it must have\n",
            "    a shape that the inputs broadcast to. If not provided or None,\n",
            "    a freshly-allocated array is returned. A tuple (possible only as a\n",
            "    keyword argument) must have length equal to the number of outputs.\n",
            "where : array_like, optional\n",
            "    This condition is broadcast over the input. At locations where the\n",
            "    condition is True, the `out` array will be set to the ufunc result.\n",
            "    Elsewhere, the `out` array will retain its original value.\n",
            "    Note that if an uninitialized `out` array is created via the default\n",
            "    ``out=None``, locations within it where the condition is False will\n",
            "    remain uninitialized.\n",
            "**kwargs\n",
            "    For other keyword-only arguments, see the\n",
            "    :ref:`ufunc docs <ufuncs.kwargs>`.\n",
            "\n",
            "Returns\n",
            "-------\n",
            "add : ndarray or scalar\n",
            "    The sum of `x1` and `x2`, element-wise.\n",
            "    This is a scalar if both `x1` and `x2` are scalars.\n",
            "\n",
            "Notes\n",
            "-----\n",
            "Equivalent to `x1` + `x2` in terms of array broadcasting.\n",
            "\n",
            "Examples\n",
            "--------\n",
            ">>> np.add(1.0, 4.0)\n",
            "5.0\n",
            ">>> x1 = np.arange(9.0).reshape((3, 3))\n",
            ">>> x2 = np.arange(3.0)\n",
            ">>> np.add(x1, x2)\n",
            "array([[  0.,   2.,   4.],\n",
            "       [  3.,   5.,   7.],\n",
            "       [  6.,   8.,  10.]])\n",
            "\n",
            "The ``+`` operator can be used as a shorthand for ``np.add`` on ndarrays.\n",
            "\n",
            ">>> x1 = np.arange(9.0).reshape((3, 3))\n",
            ">>> x2 = np.arange(3.0)\n",
            ">>> x1 + x2\n",
            "array([[ 0.,  2.,  4.],\n",
            "       [ 3.,  5.,  7.],\n",
            "       [ 6.,  8., 10.]])\n"
          ]
        }
      ],
      "source": [
        "np.info(np.add)"
      ]
    },
    {
      "cell_type": "markdown",
      "metadata": {
        "id": "Rdmrq3fU7mpX"
      },
      "source": [
        "#### 6.  Create a null vector of size 10 but the fifth value which is 1"
      ]
    },
    {
      "cell_type": "code",
      "execution_count": 12,
      "metadata": {
        "id": "Ha-e7Ev57mpY",
        "colab": {
          "base_uri": "https://localhost:8080/"
        },
        "outputId": "f9c9e5f9-51d3-4e61-8020-9ce97a1449f7"
      },
      "outputs": [
        {
          "output_type": "stream",
          "name": "stdout",
          "text": [
            "[0. 0. 0. 0. 1. 0. 0. 0. 0. 0.]\n"
          ]
        }
      ],
      "source": [
        "b = np.zeros(10)\n",
        "b[4] = 1\n",
        "print(b)"
      ]
    },
    {
      "cell_type": "markdown",
      "metadata": {
        "id": "9R7PaV9J7mpZ"
      },
      "source": [
        "#### 7.  Create a vector with values ranging from 10 to 49"
      ]
    },
    {
      "cell_type": "code",
      "execution_count": 15,
      "metadata": {
        "id": "7FMZvTZp7mpa",
        "colab": {
          "base_uri": "https://localhost:8080/"
        },
        "outputId": "b79d4cdd-a2ce-45f4-a9de-f54f6b0c4667"
      },
      "outputs": [
        {
          "output_type": "stream",
          "name": "stdout",
          "text": [
            "[10 11 12 13 14 15 16 17 18 19 20 21 22 23 24 25 26 27 28 29 30 31 32 33\n",
            " 34 35 36 37 38 39 40 41 42 43 44 45 46 47 48 49]\n"
          ]
        }
      ],
      "source": [
        "c = np.arange(10,50)\n",
        "print(c)"
      ]
    },
    {
      "cell_type": "markdown",
      "metadata": {
        "id": "P3EkVPbA7mpb"
      },
      "source": [
        "#### 8.  Reverse a vector (first element becomes last)"
      ]
    },
    {
      "cell_type": "code",
      "execution_count": 16,
      "metadata": {
        "id": "vMBQDeQu7mpc",
        "colab": {
          "base_uri": "https://localhost:8080/"
        },
        "outputId": "bcd9db66-d74f-42ff-952f-ab89b652ce32"
      },
      "outputs": [
        {
          "output_type": "stream",
          "name": "stdout",
          "text": [
            "d - Before reverse: [10 11 12 13 14 15 16 17 18 19 20 21 22 23 24 25 26 27 28 29 30]\n",
            "d - After reverse: [30 29 28 27 26 25 24 23 22 21 20 19 18 17 16 15 14 13 12 11 10]\n"
          ]
        }
      ],
      "source": [
        "d = np.arange(10,31)\n",
        "print(\"d - Before reverse:\",d)\n",
        "d = d[::-1]\n",
        "print(\"d - After reverse:\",d)"
      ]
    },
    {
      "cell_type": "markdown",
      "metadata": {
        "id": "VJ9pMSDN7mpd"
      },
      "source": [
        "#### 9.  Create a 3x3 matrix with values ranging from 0 to 8"
      ]
    },
    {
      "cell_type": "code",
      "execution_count": 18,
      "metadata": {
        "id": "uvYlJEnq7mpe",
        "colab": {
          "base_uri": "https://localhost:8080/"
        },
        "outputId": "8e0c88d1-0ce4-46e3-9bfa-0d727616e206"
      },
      "outputs": [
        {
          "output_type": "stream",
          "name": "stdout",
          "text": [
            "[[0. 1. 2.]\n",
            " [3. 4. 5.]\n",
            " [6. 7. 8.]]\n"
          ]
        }
      ],
      "source": [
        "e = np.linspace(0,8,9)\n",
        "print(e.reshape(3,3))"
      ]
    },
    {
      "cell_type": "markdown",
      "metadata": {
        "id": "hFsG-wXU7mpf"
      },
      "source": [
        "#### 10. Find indices of non-zero elements from \\[1,2,0,0,4,0\\]"
      ]
    },
    {
      "cell_type": "code",
      "execution_count": 19,
      "metadata": {
        "id": "TmGkEMrN7mpg",
        "colab": {
          "base_uri": "https://localhost:8080/"
        },
        "outputId": "7178c576-2722-4187-8ab5-86f0c0a04813"
      },
      "outputs": [
        {
          "output_type": "stream",
          "name": "stdout",
          "text": [
            "(array([0, 1, 4]),)\n"
          ]
        }
      ],
      "source": [
        "arr = np.array([1,2,0,0,4,0])\n",
        "print(np.nonzero(arr))"
      ]
    },
    {
      "cell_type": "markdown",
      "metadata": {
        "id": "-5MToJys7mph"
      },
      "source": [
        "#### 11. Create a 3x3 identity matrix"
      ]
    },
    {
      "cell_type": "code",
      "execution_count": 26,
      "metadata": {
        "id": "FmfNwqIu7mpi",
        "colab": {
          "base_uri": "https://localhost:8080/"
        },
        "outputId": "c07c8f8f-05fa-4006-8d51-2501cfa0c65e"
      },
      "outputs": [
        {
          "output_type": "stream",
          "name": "stdout",
          "text": [
            "[[1. 0. 0.]\n",
            " [0. 1. 0.]\n",
            " [0. 0. 1.]]\n"
          ]
        }
      ],
      "source": [
        "i = np.identity(3)\n",
        "print(i)"
      ]
    },
    {
      "cell_type": "markdown",
      "metadata": {
        "id": "93desDJv7mpi"
      },
      "source": [
        "#### 12. Create a 3x3x3 array with random values"
      ]
    },
    {
      "cell_type": "code",
      "execution_count": 28,
      "metadata": {
        "collapsed": true,
        "id": "OlGfo_Pz7mpj",
        "colab": {
          "base_uri": "https://localhost:8080/"
        },
        "outputId": "e3ad1da4-938d-469a-a4fe-c79d1fbf0ebf"
      },
      "outputs": [
        {
          "output_type": "stream",
          "name": "stdout",
          "text": [
            "[[[0.48313966 0.49406214 0.14829872]\n",
            "  [0.18505656 0.25644804 0.13533569]\n",
            "  [0.75256815 0.95862167 0.69316647]]\n",
            "\n",
            " [[0.80693789 0.5516872  0.60653457]\n",
            "  [0.95662073 0.6082465  0.85498508]\n",
            "  [0.84221304 0.63732253 0.10320502]]\n",
            "\n",
            " [[0.48807893 0.25027509 0.23373383]\n",
            "  [0.45434618 0.57377719 0.50950968]\n",
            "  [0.85924042 0.91182035 0.25516658]]]\n"
          ]
        }
      ],
      "source": [
        "j = np.random.rand(3,3,3)\n",
        "print(j)"
      ]
    },
    {
      "cell_type": "markdown",
      "metadata": {
        "id": "IgykWNX_7mpk"
      },
      "source": [
        "#### 13. Create a 10x10 array with random values and find the minimum and maximum values"
      ]
    },
    {
      "cell_type": "code",
      "execution_count": 29,
      "metadata": {
        "id": "YMMCBxW57mpl",
        "colab": {
          "base_uri": "https://localhost:8080/"
        },
        "outputId": "870afec1-f6c9-4127-cafb-1ea4586bd433"
      },
      "outputs": [
        {
          "output_type": "stream",
          "name": "stdout",
          "text": [
            "[[0.26181126 0.25423185 0.41264828 0.22968152 0.86378172 0.3872117\n",
            "  0.60015646 0.51737975 0.80737103 0.19036555]\n",
            " [0.86877131 0.40803467 0.94193393 0.74195412 0.01304525 0.2144433\n",
            "  0.53335684 0.97359119 0.23487636 0.28805605]\n",
            " [0.70857798 0.63334326 0.60534185 0.20119352 0.03294448 0.35228354\n",
            "  0.72362473 0.05915221 0.91018701 0.56918202]\n",
            " [0.95310626 0.4967905  0.29141375 0.9736546  0.21167516 0.29327171\n",
            "  0.70585172 0.5173487  0.61651644 0.41862468]\n",
            " [0.31794636 0.67184657 0.69292576 0.07546696 0.62818437 0.87610942\n",
            "  0.22055559 0.0674473  0.48322562 0.55488151]\n",
            " [0.64465381 0.23379739 0.8672915  0.54427435 0.683322   0.99104543\n",
            "  0.41894413 0.17197053 0.02319963 0.5208047 ]\n",
            " [0.34717917 0.56581929 0.92705748 0.80576566 0.31309614 0.71069644\n",
            "  0.78845552 0.96288356 0.10139666 0.82996287]\n",
            " [0.1995162  0.00806298 0.38616038 0.41559156 0.34789627 0.94578294\n",
            "  0.46440019 0.81559008 0.27937358 0.02282743]\n",
            " [0.28422242 0.2817272  0.0021786  0.27067041 0.37900136 0.07201277\n",
            "  0.36490737 0.57830054 0.72589991 0.29815129]\n",
            " [0.08563298 0.26040277 0.47760939 0.05030873 0.41865482 0.39402225\n",
            "  0.25204396 0.16974692 0.63472005 0.71571816]]\n",
            "0.002178602627569304\n",
            "0.9910454314502533\n"
          ]
        }
      ],
      "source": [
        "k = np.random.rand(10,10)\n",
        "print(k)\n",
        "print(np.min(k))\n",
        "print(np.max(k))"
      ]
    },
    {
      "cell_type": "markdown",
      "metadata": {
        "id": "PwBunaDm7mpm"
      },
      "source": [
        "#### 14. Create a random vector of size 30 and find the mean value"
      ]
    },
    {
      "cell_type": "code",
      "execution_count": 30,
      "metadata": {
        "id": "HMMfccmE7mpn",
        "colab": {
          "base_uri": "https://localhost:8080/"
        },
        "outputId": "fac8b789-98f8-4e76-97f1-0799d0a525d6"
      },
      "outputs": [
        {
          "output_type": "stream",
          "name": "stdout",
          "text": [
            "[0.1370747  0.2083581  0.00568342 0.87558556 0.36288732 0.92992356\n",
            " 0.83608359 0.2081869  0.89263262 0.61469651 0.25416259 0.75911735\n",
            " 0.47974916 0.83280068 0.32028826 0.39202657 0.47845425 0.98391387\n",
            " 0.66236004 0.06539029 0.69287479 0.73515899 0.23049725 0.15416888\n",
            " 0.42280957 0.79919933 0.51835416 0.86173673 0.28855911 0.01942872]\n",
            "0.5007387623481976\n"
          ]
        }
      ],
      "source": [
        "l = np.random.rand(30)\n",
        "print(l)\n",
        "print(np.mean(l))"
      ]
    },
    {
      "cell_type": "markdown",
      "metadata": {
        "id": "nnSJEtSy7mpn"
      },
      "source": [
        "#### 15. Create a 2d array with 1 on the border and 0 inside"
      ]
    },
    {
      "cell_type": "code",
      "execution_count": 35,
      "metadata": {
        "id": "clMdkIfF7mpo",
        "colab": {
          "base_uri": "https://localhost:8080/"
        },
        "outputId": "c3a4ec92-ec6b-4e6f-a5da-a34dcce023ea"
      },
      "outputs": [
        {
          "output_type": "stream",
          "name": "stdout",
          "text": [
            "[[0. 0. 0.]\n",
            " [0. 0. 0.]\n",
            " [0. 0. 0.]]\n",
            "\n",
            "[[1. 1. 1. 1. 1.]\n",
            " [1. 0. 0. 0. 1.]\n",
            " [1. 0. 0. 0. 1.]\n",
            " [1. 0. 0. 0. 1.]\n",
            " [1. 1. 1. 1. 1.]]\n"
          ]
        }
      ],
      "source": [
        "m = np.zeros((3,3))\n",
        "print(m,end=\"\\n\\n\")\n",
        "m = np.pad(m,pad_width=1,mode=\"constant\",constant_values=1)\n",
        "print(m)"
      ]
    },
    {
      "cell_type": "markdown",
      "metadata": {
        "id": "BX50FfvK7mpp"
      },
      "source": [
        "#### 16. How to add a border (filled with 0's) around an existing array?"
      ]
    },
    {
      "cell_type": "code",
      "execution_count": 36,
      "metadata": {
        "id": "btIfwF-o7mpp",
        "colab": {
          "base_uri": "https://localhost:8080/"
        },
        "outputId": "6af2adab-5009-43e3-ca7a-2be49af83eef"
      },
      "outputs": [
        {
          "output_type": "stream",
          "name": "stdout",
          "text": [
            "[[1 2 3]\n",
            " [4 5 6]\n",
            " [7 8 9]]\n",
            "\n",
            "[[0 0 0 0 0]\n",
            " [0 1 2 3 0]\n",
            " [0 4 5 6 0]\n",
            " [0 7 8 9 0]\n",
            " [0 0 0 0 0]]\n"
          ]
        }
      ],
      "source": [
        "n = np.array([[1,2,3],[4,5,6],[7,8,9]])\n",
        "print(n,end=\"\\n\\n\")\n",
        "n = np.pad(n,pad_width=1,mode=\"constant\",constant_values=0)\n",
        "print(n)\n"
      ]
    },
    {
      "cell_type": "markdown",
      "metadata": {
        "id": "1QprCst77mpq"
      },
      "source": [
        "#### 17. What is the result of the following expression?"
      ]
    },
    {
      "cell_type": "markdown",
      "metadata": {
        "id": "U_Es9qEZ7mpr"
      },
      "source": [
        "\n",
        "```python\n",
        "0 * np.nan\n",
        "np.nan == np.nan\n",
        "np.inf > np.nan\n",
        "np.nan - np.nan\n",
        "np.nan in set([np.nan])\n",
        "0.3 == 3 * 0.1\n",
        "```"
      ]
    },
    {
      "cell_type": "code",
      "execution_count": 38,
      "metadata": {
        "id": "L9h420eh7mps"
      },
      "outputs": [],
      "source": [
        "###Outputs are as follows:\n",
        "##nan\n",
        "##False\n",
        "##False\n",
        "##nan\n",
        "##True\n",
        "##False"
      ]
    },
    {
      "cell_type": "markdown",
      "metadata": {
        "id": "qkfFngtG7mpt"
      },
      "source": [
        "#### 18. Create a 5x5 matrix with values 1,2,3,4 just below the diagonal"
      ]
    },
    {
      "cell_type": "code",
      "execution_count": 40,
      "metadata": {
        "id": "8sa1hDK87mpu",
        "colab": {
          "base_uri": "https://localhost:8080/"
        },
        "outputId": "f82e13a7-e7ea-4179-b03b-dbb84fc01342"
      },
      "outputs": [
        {
          "output_type": "stream",
          "name": "stdout",
          "text": [
            "[[0 0 0 0 0]\n",
            " [1 0 0 0 0]\n",
            " [0 2 0 0 0]\n",
            " [0 0 3 0 0]\n",
            " [0 0 0 4 0]]\n"
          ]
        }
      ],
      "source": [
        "o = np.zeros((5,5))\n",
        "o = np.diag([1,2,3,4],k=-1)\n",
        "print(o)"
      ]
    },
    {
      "cell_type": "markdown",
      "metadata": {
        "id": "OXW4e9Th7mpv"
      },
      "source": [
        "#### 19. Create a 8x8 matrix and fill it with a checkerboard pattern"
      ]
    },
    {
      "cell_type": "code",
      "execution_count": 44,
      "metadata": {
        "id": "3DVvS6dF7mqC",
        "colab": {
          "base_uri": "https://localhost:8080/"
        },
        "outputId": "8ccecefb-64fa-4361-9c3d-c2ed7845f206"
      },
      "outputs": [
        {
          "output_type": "stream",
          "name": "stdout",
          "text": [
            "[[0. 1. 0. 1. 0. 1. 0. 1.]\n",
            " [1. 0. 1. 0. 1. 0. 1. 0.]\n",
            " [0. 1. 0. 1. 0. 1. 0. 1.]\n",
            " [1. 0. 1. 0. 1. 0. 1. 0.]\n",
            " [0. 1. 0. 1. 0. 1. 0. 1.]\n",
            " [1. 0. 1. 0. 1. 0. 1. 0.]\n",
            " [0. 1. 0. 1. 0. 1. 0. 1.]\n",
            " [1. 0. 1. 0. 1. 0. 1. 0.]]\n"
          ]
        }
      ],
      "source": [
        "p = np.zeros((8,8))\n",
        "p[1::2, ::2] = 1\n",
        "p[::2, 1::2] = 1\n",
        "print(p)"
      ]
    },
    {
      "cell_type": "markdown",
      "metadata": {
        "id": "196QAekj7mqC"
      },
      "source": [
        "#### 20. Consider a (6,7,8) shape array, what is the index (x,y,z) of the 100th element?"
      ]
    },
    {
      "cell_type": "code",
      "execution_count": 48,
      "metadata": {
        "id": "CQZb0uS97mqD",
        "colab": {
          "base_uri": "https://localhost:8080/"
        },
        "outputId": "12e66d9d-f330-43a4-b146-407673ed2f64"
      },
      "outputs": [
        {
          "output_type": "stream",
          "name": "stdout",
          "text": [
            "(1, 5, 3)\n"
          ]
        }
      ],
      "source": [
        "##q = np.array((6,7,8))\n",
        "print(np.unravel_index(99,[6,7,8]))"
      ]
    },
    {
      "cell_type": "code",
      "source": [],
      "metadata": {
        "id": "qJMDRdroJ4je"
      },
      "execution_count": null,
      "outputs": []
    }
  ],
  "metadata": {
    "kernelspec": {
      "display_name": "Python 3",
      "language": "python",
      "name": "python3"
    },
    "language_info": {
      "codemirror_mode": {
        "name": "ipython",
        "version": 3
      },
      "file_extension": ".py",
      "mimetype": "text/x-python",
      "name": "python",
      "nbconvert_exporter": "python",
      "pygments_lexer": "ipython3",
      "version": "3.7.3"
    },
    "colab": {
      "provenance": [],
      "include_colab_link": true
    }
  },
  "nbformat": 4,
  "nbformat_minor": 0
}